{
 "cells": [
  {
   "cell_type": "markdown",
   "metadata": {},
   "source": [
    "Asteroide problema uno - Advertencia [Ejercicio - Escribir declaraciones if, else, y elif]"
   ]
  },
  {
   "cell_type": "code",
   "execution_count": 3,
   "metadata": {},
   "outputs": [
    {
     "name": "stdout",
     "output_type": "stream",
     "text": [
      "ADVERTENCIA - Un asteroide se dirige a velocidades peligrosas\n"
     ]
    }
   ],
   "source": [
    "vel_asteroid1 = 49\n",
    "limite_Peligro = 25\n",
    "\n",
    "if vel_asteroid1 >= limite_Peligro:\n",
    "    print(\"ADVERTENCIA - Un asteroide se dirige a velocidades peligrosas\")\n",
    "\n",
    "else:\n",
    "    print(\"No pasa nada, oiga. Todo esta bien.\")\n"
   ]
  },
  {
   "cell_type": "markdown",
   "metadata": {},
   "source": [
    "ASTEROIDE - Ejercicio: Uso de operadores and y or"
   ]
  },
  {
   "cell_type": "code",
   "execution_count": 6,
   "metadata": {},
   "outputs": [
    {
     "name": "stdout",
     "output_type": "stream",
     "text": [
      "No se puede percibir ningún asteroide por el momento\n"
     ]
    }
   ],
   "source": [
    "vel_asteroid2 = 19\n",
    "wide_asteriod2 = 40\n",
    "limite_Percibible = 20\n",
    "\n",
    "if vel_asteroid2 >= limite_Percibible:\n",
    "    print(\"ANUNCIO - Hay un asteroide en el cielo.\")\n",
    "\n",
    "else:\n",
    "    print(\"No se puede percibir ningún asteroide por el momento\")"
   ]
  },
  {
   "cell_type": "markdown",
   "metadata": {},
   "source": [
    "ASTEROIDE - Ejercicio 3"
   ]
  },
  {
   "cell_type": "code",
   "execution_count": 7,
   "metadata": {},
   "outputs": [
    {
     "name": "stdout",
     "output_type": "stream",
     "text": [
      "ANUNCIO - Hay un asteroide en el cielo.\n",
      "ADVERTENCIA - Presenta un riesgo de a la tierra\n"
     ]
    }
   ],
   "source": [
    "if(vel_asteroid2 >= limite_Percibible or vel_asteroid1 >= limite_Percibible):\n",
    "    print(\"ANUNCIO - Hay un asteroide en el cielo.\")\n",
    "    if((vel_asteroid2 >= limite_Peligro and wide_asteriod2 >= 25) or vel_asteroid1 >= limite_Peligro):\n",
    "        print(\"ADVERTENCIA - Presenta un riesgo de a la tierra\")\n",
    "    else:\n",
    "        print(\"No presenta un riesgo a la tierra\")\n",
    "else:\n",
    "    print(\"No hay ningún asteroide por el momento.\")"
   ]
  }
 ],
 "metadata": {
  "interpreter": {
   "hash": "5ead2c3858595e038b7a8c7fb54670d18af52dd1f2543733d174fc5e2a765a58"
  },
  "kernelspec": {
   "display_name": "Python 3.10.2 64-bit",
   "language": "python",
   "name": "python3"
  },
  "language_info": {
   "codemirror_mode": {
    "name": "ipython",
    "version": 3
   },
   "file_extension": ".py",
   "mimetype": "text/x-python",
   "name": "python",
   "nbconvert_exporter": "python",
   "pygments_lexer": "ipython3",
   "version": "3.10.2"
  },
  "orig_nbformat": 4
 },
 "nbformat": 4,
 "nbformat_minor": 2
}
