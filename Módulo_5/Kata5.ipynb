{
 "cells": [
  {
   "cell_type": "markdown",
   "metadata": {},
   "source": [
    "Ejercicio1 - Utilizar operadores aritméticos"
   ]
  },
  {
   "cell_type": "code",
   "execution_count": 5,
   "metadata": {},
   "outputs": [
    {
     "name": "stdout",
     "output_type": "stream",
     "text": [
      "La distancia es: 628949330 km\n",
      "o 390577533.93 millas\n"
     ]
    }
   ],
   "source": [
    "tierra_dist = 149597870\n",
    "jupiter_dist = 778547200\n",
    "\n",
    "print('La distancia es:', abs(tierra_dist-jupiter_dist), 'km')\n",
    "print('o', abs(tierra_dist-jupiter_dist)*0.621, 'millas')"
   ]
  },
  {
   "cell_type": "markdown",
   "metadata": {},
   "source": [
    "Ejercicio 2: convierte cadenas en números y usa valores absolutos"
   ]
  },
  {
   "cell_type": "code",
   "execution_count": 9,
   "metadata": {},
   "outputs": [
    {
     "name": "stdout",
     "output_type": "stream",
     "text": [
      "La distancia entre a y s es: 7\n"
     ]
    }
   ],
   "source": [
    "p1_name = input(\"Nombre del primer planeta\")\n",
    "p2_name = input(\"Nombre del segundo planeta\")\n",
    "p1_dist = input(\"¿Cuál es su distancia al sol?\")\n",
    "p2_dist = input(\"¿Cuál es su distancia al sol?\")\n",
    "p1_dist = int(p1_dist)\n",
    "p2_dist = int(p2_dist)\n",
    "\n",
    "print('La distancia entre',p1_name, 'y', p2_name,'es:', abs(p1_dist-p2_dist))"
   ]
  }
 ],
 "metadata": {
  "interpreter": {
   "hash": "5ead2c3858595e038b7a8c7fb54670d18af52dd1f2543733d174fc5e2a765a58"
  },
  "kernelspec": {
   "display_name": "Python 3.10.2 64-bit",
   "language": "python",
   "name": "python3"
  },
  "language_info": {
   "codemirror_mode": {
    "name": "ipython",
    "version": 3
   },
   "file_extension": ".py",
   "mimetype": "text/x-python",
   "name": "python",
   "nbconvert_exporter": "python",
   "pygments_lexer": "ipython3",
   "version": "3.10.2"
  },
  "orig_nbformat": 4
 },
 "nbformat": 4,
 "nbformat_minor": 2
}
