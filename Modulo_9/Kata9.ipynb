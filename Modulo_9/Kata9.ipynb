{
 "cells": [
  {
   "cell_type": "markdown",
   "metadata": {},
   "source": [
    "Ejercicio 1: Trabajar con argumentos en funciones"
   ]
  },
  {
   "cell_type": "code",
   "execution_count": 2,
   "metadata": {},
   "outputs": [
    {
     "name": "stdout",
     "output_type": "stream",
     "text": [
      "Fuel Report:\n",
      "    Promedio: 78.33333333333333%\n",
      "#Lo que me falto\n",
      "    Main tank: 80%\n",
      "    External tank: 70%\n",
      "    Hydrogen tank: 85% \n",
      "    \n",
      "Fuel Report:\n",
      "    Total Average: 78.0%\n",
      "    Main tank: 88%\n",
      "    External tank: 76%\n",
      "    Hydrogen tank: 70% \n",
      "    \n"
     ]
    }
   ],
   "source": [
    "def informe(principal, externo, hidrogeno):\n",
    "    return f\"\"\"Informe del Combustible:\n",
    "    Promedio: {average([principal, externo, hidrogeno])}%\n",
    "    Principal: {principal}%\n",
    "    Externo: {externo}%\n",
    "    Hidrogeno: {hidrogeno}% \n",
    "    \"\"\"\n",
    "    \n",
    "print(informe(80, 70, 85))\n",
    "def average(values):\n",
    "    total = sum(values)\n",
    "    number_of_items = len(values)\n",
    "    return total / number_of_items\n",
    "\n",
    "average([80, 85, 81]) \n",
    "\n",
    "def informe(principal, externo, hidrogeno):\n",
    "    return f\"\"\"Informe del Combustible:\n",
    "    Promedio: {average([principal, externo, hidrogeno])}%\n",
    "    Principal: {principal}%\n",
    "    Externo: {externo}%\n",
    "    Hidrogeno: {hidrogeno}% \n",
    "    \"\"\"\n",
    "\n",
    "print(informe(88, 76, 70))"
   ]
  }
 ],
 "metadata": {
  "interpreter": {
   "hash": "5ead2c3858595e038b7a8c7fb54670d18af52dd1f2543733d174fc5e2a765a58"
  },
  "kernelspec": {
   "display_name": "Python 3.10.2 64-bit",
   "language": "python",
   "name": "python3"
  },
  "language_info": {
   "codemirror_mode": {
    "name": "ipython",
    "version": 3
   },
   "file_extension": ".py",
   "mimetype": "text/x-python",
   "name": "python",
   "nbconvert_exporter": "python",
   "pygments_lexer": "ipython3",
   "version": "3.10.2"
  },
  "orig_nbformat": 4
 },
 "nbformat": 4,
 "nbformat_minor": 2
}
